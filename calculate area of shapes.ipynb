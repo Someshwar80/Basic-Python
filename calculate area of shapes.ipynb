{
 "cells": [
  {
   "cell_type": "markdown",
   "metadata": {},
   "source": [
    "###### 1. Write a program to calculate area of shapes. Your program should be capable of calculating the area of a square, rectangle, triangle and a circle. The user should be presented with options to select the shape. Based on which shape is chosed by the user, the program should ask for the appropriate input and print the resulting area on the screen.\n",
    "\n",
    "When the program is run, the screen should display something like this:\n",
    "\n",
    "**Which shape would you like to calculate the area for? Please enter the option number-**<br>\n",
    "**1. Square**<br>\n",
    "**2. Rectangle**<br>\n",
    "**3. Triangle**<br>\n",
    "**4. Circle**<br>\n",
    "**Enter Option: _**\n",
    "\n",
    "Say the user enters the option 1.\n",
    "\n",
    "**Please enter the length of a side: _**\n",
    "\n",
    "If the user enters a value of 5. The output should be:\n",
    "\n",
    "**The area of the square is 25**\n",
    "\n",
    "This program should indicate that the input is invalid if the user enters a character instead of a number as input. For instance if the user enters a value of ‘a’ instead of 5 in the previous example the program should prompt:\n",
    "\n",
    "**Invalid input, please enter a number: _**\n"
   ]
  },
  {
   "cell_type": "code",
   "execution_count": 2,
   "metadata": {},
   "outputs": [],
   "source": [
    "###Solution"
   ]
  },
  {
   "cell_type": "code",
   "execution_count": 3,
   "metadata": {},
   "outputs": [
    {
     "name": "stdout",
     "output_type": "stream",
     "text": [
      "Which shape would you like to calculate the area for? Please enter the option number-\n",
      "1. Square\n",
      "2. Rectangle\n",
      "3. Triangle\n",
      "4. Circle\n",
      "Enter Option: 3\n",
      "Enter height of triangle: 2\n",
      "Enter base of triangle: 3\n",
      "Area of triangle:  3.0\n"
     ]
    }
   ],
   "source": [
    "print(\"Which shape would you like to calculate the area for? Please enter the option number-\" '\\n'\"1. Square\" '\\n' \"2. Rectangle\"'\\n' '3. Triangle' '\\n' \"4. Circle\")\n",
    "choice=int(input(\"Enter Option: \"))\n",
    "if choice==1 :\n",
    "    \n",
    "    l_square=int(input(\"Enter Length of side: \"))\n",
    "    \n",
    "    print('Area of square: ',l_square**2)\n",
    "    \n",
    "elif choice==2:\n",
    "        l_rect=int(input(\"Enter Length of rectangle: \"))\n",
    "        b_rect=int(input(\"Enter Breadth of rectangle: \"))\n",
    "        print(\"Area of Rectangle: \",l_rect*b_rect)\n",
    "elif choice==3:\n",
    "            h_tri=int(input(\"Enter height of triangle: \"))\n",
    "            b_tri=int(input(\"Enter base of triangle: \"))\n",
    "            print(\"Area of triangle: \",0.5*h_tri*b_tri)\n",
    "elif choice==4:\n",
    "                r_circle=float(input(\"Enter radius of circle: \"))\n",
    "                area_circle=22/7*r_circle*r_circle\n",
    "                print(\"Area of circle:  \",area_circle)\n",
    "else:\n",
    "                    print('Invalid input, please enter a number: ')"
   ]
  },
  {
   "cell_type": "code",
   "execution_count": null,
   "metadata": {},
   "outputs": [],
   "source": []
  }
 ],
 "metadata": {
  "kernelspec": {
   "display_name": "Python 3",
   "language": "python",
   "name": "python3"
  },
  "language_info": {
   "codemirror_mode": {
    "name": "ipython",
    "version": 3
   },
   "file_extension": ".py",
   "mimetype": "text/x-python",
   "name": "python",
   "nbconvert_exporter": "python",
   "pygments_lexer": "ipython3",
   "version": "3.8.3"
  }
 },
 "nbformat": 4,
 "nbformat_minor": 4
}
